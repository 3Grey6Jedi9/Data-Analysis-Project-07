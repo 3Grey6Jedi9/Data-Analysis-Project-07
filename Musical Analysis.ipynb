{
 "cells": [
  {
   "cell_type": "code",
   "execution_count": 182,
   "metadata": {
    "collapsed": true,
    "pycharm": {
     "name": "#%%\n"
    }
   },
   "outputs": [],
   "source": [
    "import pandas as pd\n",
    "import numpy as np\n",
    "import matplotlib.pyplot as plt\n",
    "import seaborn as sns\n",
    "music_2010 = pd.read_csv('spotifysongscsvs/2010.csv')\n",
    "music_2011 = pd.read_csv('spotifysongscsvs/2011.csv')\n",
    "music_2012 = pd.read_csv('spotifysongscsvs/2012.csv')\n",
    "music_2013 = pd.read_csv('spotifysongscsvs/2013.csv')\n",
    "music_2014 = pd.read_csv('spotifysongscsvs/2014.csv')\n",
    "music_2015 = pd.read_csv('spotifysongscsvs/2014.csv')\n",
    "music_2016 = pd.read_csv('spotifysongscsvs/2014.csv')\n",
    "music_2017 = pd.read_csv('spotifysongscsvs/2014.csv')\n",
    "music_2018 = pd.read_csv('spotifysongscsvs/2014.csv')\n",
    "music_2019 = pd.read_csv('spotifysongscsvs/2019.csv')"
   ]
  },
  {
   "cell_type": "markdown",
   "source": [
    "QUESTION 01: Combine all of the CSV files into a single dataset using Pandas. It should be held in a variable called \"all_top_songs\""
   ],
   "metadata": {
    "collapsed": false,
    "pycharm": {
     "name": "#%% md\n"
    }
   }
  },
  {
   "cell_type": "code",
   "execution_count": 183,
   "outputs": [
    {
     "data": {
      "text/plain": "(531, 15)"
     },
     "execution_count": 183,
     "metadata": {},
     "output_type": "execute_result"
    }
   ],
   "source": [
    "all_top_songs = pd.concat([music_2010, music_2011, music_2012, music_2013, music_2014, music_2015, music_2016, music_2017, music_2018, music_2019])\n",
    "all_top_songs.shape"
   ],
   "metadata": {
    "collapsed": false,
    "pycharm": {
     "name": "#%%\n"
    }
   }
  },
  {
   "cell_type": "code",
   "execution_count": 184,
   "outputs": [
    {
     "data": {
      "text/plain": "     ID                                              title            artist  \\\n0     1                                   Hey, Soul Sister             Train   \n1     2                               Love The Way You Lie            Eminem   \n2     3                                            TiK ToK             Kesha   \n3     4                                        Bad Romance         Lady Gaga   \n4     5                               Just the Way You Are        Bruno Mars   \n..  ...                                                ...               ...   \n26  599                Find U Again (feat. Camila Cabello)       Mark Ronson   \n27  600      Cross Me (feat. Chance the Rapper & PnB Rock)        Ed Sheeran   \n28  601  No Brainer (feat. Justin Bieber, Chance the Ra...         DJ Khaled   \n29  602    Nothing Breaks Like a Heart (feat. Miley Cyrus)       Mark Ronson   \n30  603                                   Kills You Slowly  The Chainsmokers   \n\n          top genre  year  bpm  nrgy  dnce  dB  live  val  dur  acous  spch  \\\n0        neo mellow  2010   97    89    67  -4     8   80  217     19     4   \n1   detroit hip hop  2010   87    93    75  -5    52   64  263     24    23   \n2         dance pop  2010  120    84    76  -3    29   71  200     10    14   \n3         dance pop  2010  119    92    70  -4     8   71  295      0     4   \n4               pop  2010  109    84    64  -5     9   43  221      2     4   \n..              ...   ...  ...   ...   ...  ..   ...  ...  ...    ...   ...   \n26        dance pop  2019  104    66    61  -7    20   16  176      1     3   \n27              pop  2019   95    79    75  -6     7   61  206     21    12   \n28        dance pop  2019  136    76    53  -5     9   65  260      7    34   \n29        dance pop  2019  114    79    60  -6    42   24  217      1     7   \n30       electropop  2019  150    44    70  -9    13   23  213      6     6   \n\n    pop  \n0    83  \n1    82  \n2    80  \n3    79  \n4    78  \n..  ...  \n26   75  \n27   75  \n28   70  \n29   69  \n30   67  \n\n[531 rows x 15 columns]",
      "text/html": "<div>\n<style scoped>\n    .dataframe tbody tr th:only-of-type {\n        vertical-align: middle;\n    }\n\n    .dataframe tbody tr th {\n        vertical-align: top;\n    }\n\n    .dataframe thead th {\n        text-align: right;\n    }\n</style>\n<table border=\"1\" class=\"dataframe\">\n  <thead>\n    <tr style=\"text-align: right;\">\n      <th></th>\n      <th>ID</th>\n      <th>title</th>\n      <th>artist</th>\n      <th>top genre</th>\n      <th>year</th>\n      <th>bpm</th>\n      <th>nrgy</th>\n      <th>dnce</th>\n      <th>dB</th>\n      <th>live</th>\n      <th>val</th>\n      <th>dur</th>\n      <th>acous</th>\n      <th>spch</th>\n      <th>pop</th>\n    </tr>\n  </thead>\n  <tbody>\n    <tr>\n      <th>0</th>\n      <td>1</td>\n      <td>Hey, Soul Sister</td>\n      <td>Train</td>\n      <td>neo mellow</td>\n      <td>2010</td>\n      <td>97</td>\n      <td>89</td>\n      <td>67</td>\n      <td>-4</td>\n      <td>8</td>\n      <td>80</td>\n      <td>217</td>\n      <td>19</td>\n      <td>4</td>\n      <td>83</td>\n    </tr>\n    <tr>\n      <th>1</th>\n      <td>2</td>\n      <td>Love The Way You Lie</td>\n      <td>Eminem</td>\n      <td>detroit hip hop</td>\n      <td>2010</td>\n      <td>87</td>\n      <td>93</td>\n      <td>75</td>\n      <td>-5</td>\n      <td>52</td>\n      <td>64</td>\n      <td>263</td>\n      <td>24</td>\n      <td>23</td>\n      <td>82</td>\n    </tr>\n    <tr>\n      <th>2</th>\n      <td>3</td>\n      <td>TiK ToK</td>\n      <td>Kesha</td>\n      <td>dance pop</td>\n      <td>2010</td>\n      <td>120</td>\n      <td>84</td>\n      <td>76</td>\n      <td>-3</td>\n      <td>29</td>\n      <td>71</td>\n      <td>200</td>\n      <td>10</td>\n      <td>14</td>\n      <td>80</td>\n    </tr>\n    <tr>\n      <th>3</th>\n      <td>4</td>\n      <td>Bad Romance</td>\n      <td>Lady Gaga</td>\n      <td>dance pop</td>\n      <td>2010</td>\n      <td>119</td>\n      <td>92</td>\n      <td>70</td>\n      <td>-4</td>\n      <td>8</td>\n      <td>71</td>\n      <td>295</td>\n      <td>0</td>\n      <td>4</td>\n      <td>79</td>\n    </tr>\n    <tr>\n      <th>4</th>\n      <td>5</td>\n      <td>Just the Way You Are</td>\n      <td>Bruno Mars</td>\n      <td>pop</td>\n      <td>2010</td>\n      <td>109</td>\n      <td>84</td>\n      <td>64</td>\n      <td>-5</td>\n      <td>9</td>\n      <td>43</td>\n      <td>221</td>\n      <td>2</td>\n      <td>4</td>\n      <td>78</td>\n    </tr>\n    <tr>\n      <th>...</th>\n      <td>...</td>\n      <td>...</td>\n      <td>...</td>\n      <td>...</td>\n      <td>...</td>\n      <td>...</td>\n      <td>...</td>\n      <td>...</td>\n      <td>...</td>\n      <td>...</td>\n      <td>...</td>\n      <td>...</td>\n      <td>...</td>\n      <td>...</td>\n      <td>...</td>\n    </tr>\n    <tr>\n      <th>26</th>\n      <td>599</td>\n      <td>Find U Again (feat. Camila Cabello)</td>\n      <td>Mark Ronson</td>\n      <td>dance pop</td>\n      <td>2019</td>\n      <td>104</td>\n      <td>66</td>\n      <td>61</td>\n      <td>-7</td>\n      <td>20</td>\n      <td>16</td>\n      <td>176</td>\n      <td>1</td>\n      <td>3</td>\n      <td>75</td>\n    </tr>\n    <tr>\n      <th>27</th>\n      <td>600</td>\n      <td>Cross Me (feat. Chance the Rapper &amp; PnB Rock)</td>\n      <td>Ed Sheeran</td>\n      <td>pop</td>\n      <td>2019</td>\n      <td>95</td>\n      <td>79</td>\n      <td>75</td>\n      <td>-6</td>\n      <td>7</td>\n      <td>61</td>\n      <td>206</td>\n      <td>21</td>\n      <td>12</td>\n      <td>75</td>\n    </tr>\n    <tr>\n      <th>28</th>\n      <td>601</td>\n      <td>No Brainer (feat. Justin Bieber, Chance the Ra...</td>\n      <td>DJ Khaled</td>\n      <td>dance pop</td>\n      <td>2019</td>\n      <td>136</td>\n      <td>76</td>\n      <td>53</td>\n      <td>-5</td>\n      <td>9</td>\n      <td>65</td>\n      <td>260</td>\n      <td>7</td>\n      <td>34</td>\n      <td>70</td>\n    </tr>\n    <tr>\n      <th>29</th>\n      <td>602</td>\n      <td>Nothing Breaks Like a Heart (feat. Miley Cyrus)</td>\n      <td>Mark Ronson</td>\n      <td>dance pop</td>\n      <td>2019</td>\n      <td>114</td>\n      <td>79</td>\n      <td>60</td>\n      <td>-6</td>\n      <td>42</td>\n      <td>24</td>\n      <td>217</td>\n      <td>1</td>\n      <td>7</td>\n      <td>69</td>\n    </tr>\n    <tr>\n      <th>30</th>\n      <td>603</td>\n      <td>Kills You Slowly</td>\n      <td>The Chainsmokers</td>\n      <td>electropop</td>\n      <td>2019</td>\n      <td>150</td>\n      <td>44</td>\n      <td>70</td>\n      <td>-9</td>\n      <td>13</td>\n      <td>23</td>\n      <td>213</td>\n      <td>6</td>\n      <td>6</td>\n      <td>67</td>\n    </tr>\n  </tbody>\n</table>\n<p>531 rows × 15 columns</p>\n</div>"
     },
     "execution_count": 184,
     "metadata": {},
     "output_type": "execute_result"
    }
   ],
   "source": [
    "all_top_songs.rename(columns={'Unnamed: 0': 'ID'}, inplace=True)\n",
    "all_top_songs"
   ],
   "metadata": {
    "collapsed": false,
    "pycharm": {
     "name": "#%%\n"
    }
   }
  },
  {
   "cell_type": "markdown",
   "source": [
    "QUESTION 02: Clean the dataset to make sure the following columns are either integer or floats and not objects."
   ],
   "metadata": {
    "collapsed": false,
    "pycharm": {
     "name": "#%% md\n"
    }
   }
  },
  {
   "cell_type": "code",
   "execution_count": 185,
   "outputs": [
    {
     "name": "stdout",
     "output_type": "stream",
     "text": [
      "<class 'pandas.core.frame.DataFrame'>\n",
      "Int64Index: 531 entries, 0 to 30\n",
      "Data columns (total 15 columns):\n",
      " #   Column     Non-Null Count  Dtype \n",
      "---  ------     --------------  ----- \n",
      " 0   ID         531 non-null    int64 \n",
      " 1   title      531 non-null    object\n",
      " 2   artist     531 non-null    object\n",
      " 3   top genre  531 non-null    object\n",
      " 4   year       531 non-null    int64 \n",
      " 5   bpm        531 non-null    int64 \n",
      " 6   nrgy       531 non-null    int64 \n",
      " 7   dnce       531 non-null    int64 \n",
      " 8   dB         531 non-null    int64 \n",
      " 9   live       531 non-null    int64 \n",
      " 10  val        531 non-null    int64 \n",
      " 11  dur        531 non-null    int64 \n",
      " 12  acous      531 non-null    int64 \n",
      " 13  spch       531 non-null    int64 \n",
      " 14  pop        531 non-null    int64 \n",
      "dtypes: int64(12), object(3)\n",
      "memory usage: 66.4+ KB\n"
     ]
    }
   ],
   "source": [
    "all_top_songs.info()"
   ],
   "metadata": {
    "collapsed": false,
    "pycharm": {
     "name": "#%%\n"
    }
   }
  },
  {
   "cell_type": "markdown",
   "source": [
    "QUESTION 03: What is the most popular song in the dataset?"
   ],
   "metadata": {
    "collapsed": false,
    "pycharm": {
     "name": "#%% md\n"
    }
   }
  },
  {
   "cell_type": "markdown",
   "source": [
    "Fortunately we have a column in our database that measures the popularity of the song. That would be the pop column."
   ],
   "metadata": {
    "collapsed": false,
    "pycharm": {
     "name": "#%% md\n"
    }
   }
  },
  {
   "cell_type": "code",
   "execution_count": 186,
   "outputs": [
    {
     "data": {
      "text/plain": "     ID                    title             artist     top genre  year  bpm  \\\n0   573                 Memories           Maroon 5           pop  2019   91   \n1   574      Lose You To Love Me       Selena Gomez     dance pop  2019  102   \n2   575        Someone You Loved      Lewis Capaldi           pop  2019  110   \n3   576                 Señorita       Shawn Mendes  canadian pop  2019  117   \n4   577        How Do You Sleep?          Sam Smith           pop  2019  111   \n..  ...                      ...                ...           ...   ...  ...   \n50   51                    Hello     Martin Solveig      big room  2010  128   \n57  268          Not a Bad Thing  Justin Timberlake     dance pop  2014   86   \n57  268          Not a Bad Thing  Justin Timberlake     dance pop  2014   86   \n57  268          Not a Bad Thing  Justin Timberlake     dance pop  2014   86   \n34  139  Blow Me (One Last Kiss)               P!nk     dance pop  2012  114   \n\n    nrgy  dnce  dB  live  val  dur  acous  spch  pop  \n0     32    76  -7     8   57  189     84     5   99  \n1     34    51  -9    21    9  206     58     4   97  \n2     41    50  -6    11   45  182     75     3   96  \n3     54    76  -6     9   75  191      4     3   95  \n4     68    48  -5     8   35  202     15     9   93  \n..   ...   ...  ..   ...  ...  ...    ...   ...  ...  \n50    98    67  -3    10   45  191      1     3    0  \n57    73    59  -6    38   46  266     27     6    0  \n57    73    59  -6    38   46  266     27     6    0  \n57    73    59  -6    38   46  266     27     6    0  \n34    92    60  -3    25   75  256      0     4    0  \n\n[531 rows x 15 columns]",
      "text/html": "<div>\n<style scoped>\n    .dataframe tbody tr th:only-of-type {\n        vertical-align: middle;\n    }\n\n    .dataframe tbody tr th {\n        vertical-align: top;\n    }\n\n    .dataframe thead th {\n        text-align: right;\n    }\n</style>\n<table border=\"1\" class=\"dataframe\">\n  <thead>\n    <tr style=\"text-align: right;\">\n      <th></th>\n      <th>ID</th>\n      <th>title</th>\n      <th>artist</th>\n      <th>top genre</th>\n      <th>year</th>\n      <th>bpm</th>\n      <th>nrgy</th>\n      <th>dnce</th>\n      <th>dB</th>\n      <th>live</th>\n      <th>val</th>\n      <th>dur</th>\n      <th>acous</th>\n      <th>spch</th>\n      <th>pop</th>\n    </tr>\n  </thead>\n  <tbody>\n    <tr>\n      <th>0</th>\n      <td>573</td>\n      <td>Memories</td>\n      <td>Maroon 5</td>\n      <td>pop</td>\n      <td>2019</td>\n      <td>91</td>\n      <td>32</td>\n      <td>76</td>\n      <td>-7</td>\n      <td>8</td>\n      <td>57</td>\n      <td>189</td>\n      <td>84</td>\n      <td>5</td>\n      <td>99</td>\n    </tr>\n    <tr>\n      <th>1</th>\n      <td>574</td>\n      <td>Lose You To Love Me</td>\n      <td>Selena Gomez</td>\n      <td>dance pop</td>\n      <td>2019</td>\n      <td>102</td>\n      <td>34</td>\n      <td>51</td>\n      <td>-9</td>\n      <td>21</td>\n      <td>9</td>\n      <td>206</td>\n      <td>58</td>\n      <td>4</td>\n      <td>97</td>\n    </tr>\n    <tr>\n      <th>2</th>\n      <td>575</td>\n      <td>Someone You Loved</td>\n      <td>Lewis Capaldi</td>\n      <td>pop</td>\n      <td>2019</td>\n      <td>110</td>\n      <td>41</td>\n      <td>50</td>\n      <td>-6</td>\n      <td>11</td>\n      <td>45</td>\n      <td>182</td>\n      <td>75</td>\n      <td>3</td>\n      <td>96</td>\n    </tr>\n    <tr>\n      <th>3</th>\n      <td>576</td>\n      <td>Señorita</td>\n      <td>Shawn Mendes</td>\n      <td>canadian pop</td>\n      <td>2019</td>\n      <td>117</td>\n      <td>54</td>\n      <td>76</td>\n      <td>-6</td>\n      <td>9</td>\n      <td>75</td>\n      <td>191</td>\n      <td>4</td>\n      <td>3</td>\n      <td>95</td>\n    </tr>\n    <tr>\n      <th>4</th>\n      <td>577</td>\n      <td>How Do You Sleep?</td>\n      <td>Sam Smith</td>\n      <td>pop</td>\n      <td>2019</td>\n      <td>111</td>\n      <td>68</td>\n      <td>48</td>\n      <td>-5</td>\n      <td>8</td>\n      <td>35</td>\n      <td>202</td>\n      <td>15</td>\n      <td>9</td>\n      <td>93</td>\n    </tr>\n    <tr>\n      <th>...</th>\n      <td>...</td>\n      <td>...</td>\n      <td>...</td>\n      <td>...</td>\n      <td>...</td>\n      <td>...</td>\n      <td>...</td>\n      <td>...</td>\n      <td>...</td>\n      <td>...</td>\n      <td>...</td>\n      <td>...</td>\n      <td>...</td>\n      <td>...</td>\n      <td>...</td>\n    </tr>\n    <tr>\n      <th>50</th>\n      <td>51</td>\n      <td>Hello</td>\n      <td>Martin Solveig</td>\n      <td>big room</td>\n      <td>2010</td>\n      <td>128</td>\n      <td>98</td>\n      <td>67</td>\n      <td>-3</td>\n      <td>10</td>\n      <td>45</td>\n      <td>191</td>\n      <td>1</td>\n      <td>3</td>\n      <td>0</td>\n    </tr>\n    <tr>\n      <th>57</th>\n      <td>268</td>\n      <td>Not a Bad Thing</td>\n      <td>Justin Timberlake</td>\n      <td>dance pop</td>\n      <td>2014</td>\n      <td>86</td>\n      <td>73</td>\n      <td>59</td>\n      <td>-6</td>\n      <td>38</td>\n      <td>46</td>\n      <td>266</td>\n      <td>27</td>\n      <td>6</td>\n      <td>0</td>\n    </tr>\n    <tr>\n      <th>57</th>\n      <td>268</td>\n      <td>Not a Bad Thing</td>\n      <td>Justin Timberlake</td>\n      <td>dance pop</td>\n      <td>2014</td>\n      <td>86</td>\n      <td>73</td>\n      <td>59</td>\n      <td>-6</td>\n      <td>38</td>\n      <td>46</td>\n      <td>266</td>\n      <td>27</td>\n      <td>6</td>\n      <td>0</td>\n    </tr>\n    <tr>\n      <th>57</th>\n      <td>268</td>\n      <td>Not a Bad Thing</td>\n      <td>Justin Timberlake</td>\n      <td>dance pop</td>\n      <td>2014</td>\n      <td>86</td>\n      <td>73</td>\n      <td>59</td>\n      <td>-6</td>\n      <td>38</td>\n      <td>46</td>\n      <td>266</td>\n      <td>27</td>\n      <td>6</td>\n      <td>0</td>\n    </tr>\n    <tr>\n      <th>34</th>\n      <td>139</td>\n      <td>Blow Me (One Last Kiss)</td>\n      <td>P!nk</td>\n      <td>dance pop</td>\n      <td>2012</td>\n      <td>114</td>\n      <td>92</td>\n      <td>60</td>\n      <td>-3</td>\n      <td>25</td>\n      <td>75</td>\n      <td>256</td>\n      <td>0</td>\n      <td>4</td>\n      <td>0</td>\n    </tr>\n  </tbody>\n</table>\n<p>531 rows × 15 columns</p>\n</div>"
     },
     "execution_count": 186,
     "metadata": {},
     "output_type": "execute_result"
    }
   ],
   "source": [
    "most_popular = all_top_songs.sort_values(by='pop',ascending=False)\n",
    "most_popular"
   ],
   "metadata": {
    "collapsed": false,
    "pycharm": {
     "name": "#%%\n"
    }
   }
  },
  {
   "cell_type": "markdown",
   "source": [
    "As we can see the most popular song in the Database is 'Memories' by Maroon 5"
   ],
   "metadata": {
    "collapsed": false,
    "pycharm": {
     "name": "#%% md\n"
    }
   }
  },
  {
   "cell_type": "markdown",
   "source": [
    "QUESTION 04: What artist has the most songs in the dataset?"
   ],
   "metadata": {
    "collapsed": false,
    "pycharm": {
     "name": "#%% md\n"
    }
   }
  },
  {
   "cell_type": "code",
   "execution_count": 187,
   "outputs": [
    {
     "data": {
      "text/plain": "     ID                         title      artist  top genre  year  bpm  nrgy  \\\n28   29                 Teenage Dream  Katy Perry  dance pop  2010  120    80   \n29   30              California Gurls  Katy Perry  dance pop  2010  125    75   \n26   78                          E.T.  Katy Perry  dance pop  2011  152    87   \n50  102  Last Friday Night (T.G.I.F.)  Katy Perry  dance pop  2011  126    81   \n51  103                      Firework  Katy Perry  dance pop  2011  124    83   \n20  125                    Part Of Me  Katy Perry  dance pop  2012  130    92   \n23  128                    Wide Awake  Katy Perry  dance pop  2012  160    68   \n24  129         The One That Got Away  Katy Perry  dance pop  2012  134    80   \n5   145                          Roar  Katy Perry  dance pop  2013  180    77   \n6   217                    Dark Horse  Katy Perry  dance pop  2014  132    59   \n27  238             This Is How We Do  Katy Perry  dance pop  2014   96    64   \n32  243                      Birthday  Katy Perry  dance pop  2014  126    67   \n6   217                    Dark Horse  Katy Perry  dance pop  2014  132    59   \n27  238             This Is How We Do  Katy Perry  dance pop  2014   96    64   \n32  243                      Birthday  Katy Perry  dance pop  2014  126    67   \n6   217                    Dark Horse  Katy Perry  dance pop  2014  132    59   \n27  238             This Is How We Do  Katy Perry  dance pop  2014   96    64   \n32  243                      Birthday  Katy Perry  dance pop  2014  126    67   \n6   217                    Dark Horse  Katy Perry  dance pop  2014  132    59   \n27  238             This Is How We Do  Katy Perry  dance pop  2014   96    64   \n32  243                      Birthday  Katy Perry  dance pop  2014  126    67   \n6   217                    Dark Horse  Katy Perry  dance pop  2014  132    59   \n27  238             This Is How We Do  Katy Perry  dance pop  2014   96    64   \n32  243                      Birthday  Katy Perry  dance pop  2014  126    67   \n\n    dnce  dB  live  val  dur  acous  spch  pop  \n28    72  -5    13   59  228      2     4   63  \n29    79  -4    18   40  235      0     5   62  \n26    62  -5    37   76  230      2    18   66  \n50    65  -4    67   72  231      0     4   27  \n51    64  -5    11   65  228     14     5   25  \n20    68  -5     7   77  216      0     4   71  \n23    51  -5    39   57  221      7     4   68  \n24    69  -4    16   88  227      0     4   67  \n5     55  -5    35   46  224      0     4   78  \n6     65  -6    17   35  216      0     5   78  \n27    69  -6    15   80  204      2     5   66  \n32    72  -5    11   84  215      9     7   65  \n6     65  -6    17   35  216      0     5   78  \n27    69  -6    15   80  204      2     5   66  \n32    72  -5    11   84  215      9     7   65  \n6     65  -6    17   35  216      0     5   78  \n27    69  -6    15   80  204      2     5   66  \n32    72  -5    11   84  215      9     7   65  \n6     65  -6    17   35  216      0     5   78  \n27    69  -6    15   80  204      2     5   66  \n32    72  -5    11   84  215      9     7   65  \n6     65  -6    17   35  216      0     5   78  \n27    69  -6    15   80  204      2     5   66  \n32    72  -5    11   84  215      9     7   65  ",
      "text/html": "<div>\n<style scoped>\n    .dataframe tbody tr th:only-of-type {\n        vertical-align: middle;\n    }\n\n    .dataframe tbody tr th {\n        vertical-align: top;\n    }\n\n    .dataframe thead th {\n        text-align: right;\n    }\n</style>\n<table border=\"1\" class=\"dataframe\">\n  <thead>\n    <tr style=\"text-align: right;\">\n      <th></th>\n      <th>ID</th>\n      <th>title</th>\n      <th>artist</th>\n      <th>top genre</th>\n      <th>year</th>\n      <th>bpm</th>\n      <th>nrgy</th>\n      <th>dnce</th>\n      <th>dB</th>\n      <th>live</th>\n      <th>val</th>\n      <th>dur</th>\n      <th>acous</th>\n      <th>spch</th>\n      <th>pop</th>\n    </tr>\n  </thead>\n  <tbody>\n    <tr>\n      <th>28</th>\n      <td>29</td>\n      <td>Teenage Dream</td>\n      <td>Katy Perry</td>\n      <td>dance pop</td>\n      <td>2010</td>\n      <td>120</td>\n      <td>80</td>\n      <td>72</td>\n      <td>-5</td>\n      <td>13</td>\n      <td>59</td>\n      <td>228</td>\n      <td>2</td>\n      <td>4</td>\n      <td>63</td>\n    </tr>\n    <tr>\n      <th>29</th>\n      <td>30</td>\n      <td>California Gurls</td>\n      <td>Katy Perry</td>\n      <td>dance pop</td>\n      <td>2010</td>\n      <td>125</td>\n      <td>75</td>\n      <td>79</td>\n      <td>-4</td>\n      <td>18</td>\n      <td>40</td>\n      <td>235</td>\n      <td>0</td>\n      <td>5</td>\n      <td>62</td>\n    </tr>\n    <tr>\n      <th>26</th>\n      <td>78</td>\n      <td>E.T.</td>\n      <td>Katy Perry</td>\n      <td>dance pop</td>\n      <td>2011</td>\n      <td>152</td>\n      <td>87</td>\n      <td>62</td>\n      <td>-5</td>\n      <td>37</td>\n      <td>76</td>\n      <td>230</td>\n      <td>2</td>\n      <td>18</td>\n      <td>66</td>\n    </tr>\n    <tr>\n      <th>50</th>\n      <td>102</td>\n      <td>Last Friday Night (T.G.I.F.)</td>\n      <td>Katy Perry</td>\n      <td>dance pop</td>\n      <td>2011</td>\n      <td>126</td>\n      <td>81</td>\n      <td>65</td>\n      <td>-4</td>\n      <td>67</td>\n      <td>72</td>\n      <td>231</td>\n      <td>0</td>\n      <td>4</td>\n      <td>27</td>\n    </tr>\n    <tr>\n      <th>51</th>\n      <td>103</td>\n      <td>Firework</td>\n      <td>Katy Perry</td>\n      <td>dance pop</td>\n      <td>2011</td>\n      <td>124</td>\n      <td>83</td>\n      <td>64</td>\n      <td>-5</td>\n      <td>11</td>\n      <td>65</td>\n      <td>228</td>\n      <td>14</td>\n      <td>5</td>\n      <td>25</td>\n    </tr>\n    <tr>\n      <th>20</th>\n      <td>125</td>\n      <td>Part Of Me</td>\n      <td>Katy Perry</td>\n      <td>dance pop</td>\n      <td>2012</td>\n      <td>130</td>\n      <td>92</td>\n      <td>68</td>\n      <td>-5</td>\n      <td>7</td>\n      <td>77</td>\n      <td>216</td>\n      <td>0</td>\n      <td>4</td>\n      <td>71</td>\n    </tr>\n    <tr>\n      <th>23</th>\n      <td>128</td>\n      <td>Wide Awake</td>\n      <td>Katy Perry</td>\n      <td>dance pop</td>\n      <td>2012</td>\n      <td>160</td>\n      <td>68</td>\n      <td>51</td>\n      <td>-5</td>\n      <td>39</td>\n      <td>57</td>\n      <td>221</td>\n      <td>7</td>\n      <td>4</td>\n      <td>68</td>\n    </tr>\n    <tr>\n      <th>24</th>\n      <td>129</td>\n      <td>The One That Got Away</td>\n      <td>Katy Perry</td>\n      <td>dance pop</td>\n      <td>2012</td>\n      <td>134</td>\n      <td>80</td>\n      <td>69</td>\n      <td>-4</td>\n      <td>16</td>\n      <td>88</td>\n      <td>227</td>\n      <td>0</td>\n      <td>4</td>\n      <td>67</td>\n    </tr>\n    <tr>\n      <th>5</th>\n      <td>145</td>\n      <td>Roar</td>\n      <td>Katy Perry</td>\n      <td>dance pop</td>\n      <td>2013</td>\n      <td>180</td>\n      <td>77</td>\n      <td>55</td>\n      <td>-5</td>\n      <td>35</td>\n      <td>46</td>\n      <td>224</td>\n      <td>0</td>\n      <td>4</td>\n      <td>78</td>\n    </tr>\n    <tr>\n      <th>6</th>\n      <td>217</td>\n      <td>Dark Horse</td>\n      <td>Katy Perry</td>\n      <td>dance pop</td>\n      <td>2014</td>\n      <td>132</td>\n      <td>59</td>\n      <td>65</td>\n      <td>-6</td>\n      <td>17</td>\n      <td>35</td>\n      <td>216</td>\n      <td>0</td>\n      <td>5</td>\n      <td>78</td>\n    </tr>\n    <tr>\n      <th>27</th>\n      <td>238</td>\n      <td>This Is How We Do</td>\n      <td>Katy Perry</td>\n      <td>dance pop</td>\n      <td>2014</td>\n      <td>96</td>\n      <td>64</td>\n      <td>69</td>\n      <td>-6</td>\n      <td>15</td>\n      <td>80</td>\n      <td>204</td>\n      <td>2</td>\n      <td>5</td>\n      <td>66</td>\n    </tr>\n    <tr>\n      <th>32</th>\n      <td>243</td>\n      <td>Birthday</td>\n      <td>Katy Perry</td>\n      <td>dance pop</td>\n      <td>2014</td>\n      <td>126</td>\n      <td>67</td>\n      <td>72</td>\n      <td>-5</td>\n      <td>11</td>\n      <td>84</td>\n      <td>215</td>\n      <td>9</td>\n      <td>7</td>\n      <td>65</td>\n    </tr>\n    <tr>\n      <th>6</th>\n      <td>217</td>\n      <td>Dark Horse</td>\n      <td>Katy Perry</td>\n      <td>dance pop</td>\n      <td>2014</td>\n      <td>132</td>\n      <td>59</td>\n      <td>65</td>\n      <td>-6</td>\n      <td>17</td>\n      <td>35</td>\n      <td>216</td>\n      <td>0</td>\n      <td>5</td>\n      <td>78</td>\n    </tr>\n    <tr>\n      <th>27</th>\n      <td>238</td>\n      <td>This Is How We Do</td>\n      <td>Katy Perry</td>\n      <td>dance pop</td>\n      <td>2014</td>\n      <td>96</td>\n      <td>64</td>\n      <td>69</td>\n      <td>-6</td>\n      <td>15</td>\n      <td>80</td>\n      <td>204</td>\n      <td>2</td>\n      <td>5</td>\n      <td>66</td>\n    </tr>\n    <tr>\n      <th>32</th>\n      <td>243</td>\n      <td>Birthday</td>\n      <td>Katy Perry</td>\n      <td>dance pop</td>\n      <td>2014</td>\n      <td>126</td>\n      <td>67</td>\n      <td>72</td>\n      <td>-5</td>\n      <td>11</td>\n      <td>84</td>\n      <td>215</td>\n      <td>9</td>\n      <td>7</td>\n      <td>65</td>\n    </tr>\n    <tr>\n      <th>6</th>\n      <td>217</td>\n      <td>Dark Horse</td>\n      <td>Katy Perry</td>\n      <td>dance pop</td>\n      <td>2014</td>\n      <td>132</td>\n      <td>59</td>\n      <td>65</td>\n      <td>-6</td>\n      <td>17</td>\n      <td>35</td>\n      <td>216</td>\n      <td>0</td>\n      <td>5</td>\n      <td>78</td>\n    </tr>\n    <tr>\n      <th>27</th>\n      <td>238</td>\n      <td>This Is How We Do</td>\n      <td>Katy Perry</td>\n      <td>dance pop</td>\n      <td>2014</td>\n      <td>96</td>\n      <td>64</td>\n      <td>69</td>\n      <td>-6</td>\n      <td>15</td>\n      <td>80</td>\n      <td>204</td>\n      <td>2</td>\n      <td>5</td>\n      <td>66</td>\n    </tr>\n    <tr>\n      <th>32</th>\n      <td>243</td>\n      <td>Birthday</td>\n      <td>Katy Perry</td>\n      <td>dance pop</td>\n      <td>2014</td>\n      <td>126</td>\n      <td>67</td>\n      <td>72</td>\n      <td>-5</td>\n      <td>11</td>\n      <td>84</td>\n      <td>215</td>\n      <td>9</td>\n      <td>7</td>\n      <td>65</td>\n    </tr>\n    <tr>\n      <th>6</th>\n      <td>217</td>\n      <td>Dark Horse</td>\n      <td>Katy Perry</td>\n      <td>dance pop</td>\n      <td>2014</td>\n      <td>132</td>\n      <td>59</td>\n      <td>65</td>\n      <td>-6</td>\n      <td>17</td>\n      <td>35</td>\n      <td>216</td>\n      <td>0</td>\n      <td>5</td>\n      <td>78</td>\n    </tr>\n    <tr>\n      <th>27</th>\n      <td>238</td>\n      <td>This Is How We Do</td>\n      <td>Katy Perry</td>\n      <td>dance pop</td>\n      <td>2014</td>\n      <td>96</td>\n      <td>64</td>\n      <td>69</td>\n      <td>-6</td>\n      <td>15</td>\n      <td>80</td>\n      <td>204</td>\n      <td>2</td>\n      <td>5</td>\n      <td>66</td>\n    </tr>\n    <tr>\n      <th>32</th>\n      <td>243</td>\n      <td>Birthday</td>\n      <td>Katy Perry</td>\n      <td>dance pop</td>\n      <td>2014</td>\n      <td>126</td>\n      <td>67</td>\n      <td>72</td>\n      <td>-5</td>\n      <td>11</td>\n      <td>84</td>\n      <td>215</td>\n      <td>9</td>\n      <td>7</td>\n      <td>65</td>\n    </tr>\n    <tr>\n      <th>6</th>\n      <td>217</td>\n      <td>Dark Horse</td>\n      <td>Katy Perry</td>\n      <td>dance pop</td>\n      <td>2014</td>\n      <td>132</td>\n      <td>59</td>\n      <td>65</td>\n      <td>-6</td>\n      <td>17</td>\n      <td>35</td>\n      <td>216</td>\n      <td>0</td>\n      <td>5</td>\n      <td>78</td>\n    </tr>\n    <tr>\n      <th>27</th>\n      <td>238</td>\n      <td>This Is How We Do</td>\n      <td>Katy Perry</td>\n      <td>dance pop</td>\n      <td>2014</td>\n      <td>96</td>\n      <td>64</td>\n      <td>69</td>\n      <td>-6</td>\n      <td>15</td>\n      <td>80</td>\n      <td>204</td>\n      <td>2</td>\n      <td>5</td>\n      <td>66</td>\n    </tr>\n    <tr>\n      <th>32</th>\n      <td>243</td>\n      <td>Birthday</td>\n      <td>Katy Perry</td>\n      <td>dance pop</td>\n      <td>2014</td>\n      <td>126</td>\n      <td>67</td>\n      <td>72</td>\n      <td>-5</td>\n      <td>11</td>\n      <td>84</td>\n      <td>215</td>\n      <td>9</td>\n      <td>7</td>\n      <td>65</td>\n    </tr>\n  </tbody>\n</table>\n</div>"
     },
     "execution_count": 187,
     "metadata": {},
     "output_type": "execute_result"
    }
   ],
   "source": [
    "artists_array = np.array(all_top_songs['artist'].unique())\n",
    "artists_full_array = np.array(all_top_songs['artist'])\n",
    "\n",
    "popular = []\n",
    "artist = []\n",
    "\n",
    "for a in artists_array:\n",
    "    count = 0\n",
    "    for b in artists_full_array:\n",
    "        if a == b:\n",
    "            count += 1\n",
    "        else:\n",
    "            continue\n",
    "    artist.append(a)\n",
    "    popular.append(count)\n",
    "\n",
    "idx = popular.index(max(popular))\n",
    "\n",
    "idx, max(popular), artist[idx]\n",
    "\n",
    "artist_more_songs = all_top_songs[all_top_songs['artist']==artist[idx]]\n",
    "artist_more_songs\n",
    "\n"
   ],
   "metadata": {
    "collapsed": false,
    "pycharm": {
     "name": "#%%\n"
    }
   }
  },
  {
   "cell_type": "markdown",
   "source": [
    "As we can see the artist with more songs is Katy Perry. To be precise there are 24."
   ],
   "metadata": {
    "collapsed": false,
    "pycharm": {
     "name": "#%% md\n"
    }
   }
  },
  {
   "cell_type": "markdown",
   "source": [
    "QUESTION 05: What is the most popular genre of music in the dataset?"
   ],
   "metadata": {
    "collapsed": false,
    "pycharm": {
     "name": "#%% md\n"
    }
   }
  },
  {
   "cell_type": "code",
   "execution_count": 188,
   "outputs": [
    {
     "data": {
      "text/plain": "2    dance pop\nName: top genre, dtype: object"
     },
     "execution_count": 188,
     "metadata": {},
     "output_type": "execute_result"
    }
   ],
   "source": [
    "genre_array = np.array(all_top_songs['top genre'].unique())\n",
    "genre_full_array = np.array(all_top_songs['top genre'])\n",
    "\n",
    "popular_g = []\n",
    "genre = []\n",
    "\n",
    "for a in genre_array:\n",
    "    count = 0\n",
    "    for b in genre_full_array:\n",
    "        if a == b:\n",
    "            count += 1\n",
    "        else:\n",
    "            continue\n",
    "    genre.append(a)\n",
    "    popular_g.append(count)\n",
    "\n",
    "idx_g = popular_g.index(max(popular_g))\n",
    "\n",
    "idx_g, max(popular_g), genre[idx_g]\n",
    "\n",
    "genre_more_songs = all_top_songs[all_top_songs['top genre']==genre[idx_g]]\n",
    "genre_more_songs['top genre'].head(1)\n"
   ],
   "metadata": {
    "collapsed": false,
    "pycharm": {
     "name": "#%%\n"
    }
   }
  },
  {
   "cell_type": "markdown",
   "source": [
    "QUESTION 06: Are there any songs in the dataset more than once?"
   ],
   "metadata": {
    "collapsed": false,
    "pycharm": {
     "name": "#%% md\n"
    }
   }
  },
  {
   "cell_type": "code",
   "execution_count": 189,
   "outputs": [
    {
     "data": {
      "text/plain": "(531, 293)"
     },
     "execution_count": 189,
     "metadata": {},
     "output_type": "execute_result"
    }
   ],
   "source": [
    "len(all_top_songs['title']), len(all_top_songs['title'].unique())"
   ],
   "metadata": {
    "collapsed": false,
    "pycharm": {
     "name": "#%%\n"
    }
   }
  },
  {
   "cell_type": "markdown",
   "source": [
    "As we can see we must have repeated songs."
   ],
   "metadata": {
    "collapsed": false,
    "pycharm": {
     "name": "#%% md\n"
    }
   }
  },
  {
   "cell_type": "markdown",
   "source": [
    "QUESTION 07: Is there a relationship between popularity and danceability?"
   ],
   "metadata": {
    "collapsed": false,
    "pycharm": {
     "name": "#%% md\n"
    }
   }
  },
  {
   "cell_type": "code",
   "execution_count": 194,
   "outputs": [
    {
     "data": {
      "text/plain": "<Figure size 640x480 with 1 Axes>",
      "image/png": "[encoded data removed]"
     },
     "metadata": {},
     "output_type": "display_data"
    }
   ],
   "source": [
    "all_top_songs\n",
    "\n",
    "x = np.array(all_top_songs['dnce']) #danceability\n",
    "y = np.array(all_top_songs['pop']) # popularity\n",
    "\n",
    "\n",
    "sns.scatterplot(data=all_top_songs, x='dnce', y='pop')\n",
    "plt.show()"
   ],
   "metadata": {
    "collapsed": false,
    "pycharm": {
     "name": "#%%\n"
    }
   }
  }
 ],
 "metadata": {
  "kernelspec": {
   "display_name": "Python 3",
   "language": "python",
   "name": "python3"
  },
  "language_info": {
   "codemirror_mode": {
    "name": "ipython",
    "version": 2
   },
   "file_extension": ".py",
   "mimetype": "text/x-python",
   "name": "python",
   "nbconvert_exporter": "python",
   "pygments_lexer": "ipython2",
   "version": "2.7.6"
  }
 },
 "nbformat": 4,
 "nbformat_minor": 0
}