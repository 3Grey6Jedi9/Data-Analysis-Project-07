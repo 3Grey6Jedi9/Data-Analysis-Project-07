{
 "cells": [
  {
   "cell_type": "code",
   "execution_count": 3,
   "metadata": {
    "collapsed": true,
    "pycharm": {
     "name": "#%%\n"
    }
   },
   "outputs": [],
   "source": [
    "import pandas as pd\n",
    "music_2010 = pd.read_csv('spotifysongscsvs/2010.csv')\n",
    "music_2011 = pd.read_csv('spotifysongscsvs/2011.csv')\n",
    "music_2012 = pd.read_csv('spotifysongscsvs/2012.csv')\n",
    "music_2013 = pd.read_csv('spotifysongscsvs/2013.csv')\n",
    "music_2014 = pd.read_csv('spotifysongscsvs/2014.csv')\n",
    "music_2015 = pd.read_csv('spotifysongscsvs/2014.csv')\n",
    "music_2016 = pd.read_csv('spotifysongscsvs/2014.csv')\n",
    "music_2017 = pd.read_csv('spotifysongscsvs/2014.csv')\n",
    "music_2018 = pd.read_csv('spotifysongscsvs/2014.csv')\n",
    "music_2019 = pd.read_csv('spotifysongscsvs/2019.csv')"
   ]
  },
  {
   "cell_type": "code",
   "execution_count": 15,
   "outputs": [
    {
     "data": {
      "text/plain": "(531, 15)"
     },
     "execution_count": 15,
     "metadata": {},
     "output_type": "execute_result"
    }
   ],
   "source": [
    "all_top_songs = pd.concat([music_2010, music_2011, music_2012, music_2013, music_2014, music_2015, music_2016, music_2017, music_2018, music_2019])\n",
    "all_top_songs.shape"
   ],
   "metadata": {
    "collapsed": false,
    "pycharm": {
     "name": "#%%\n"
    }
   }
  },
  {
   "cell_type": "code",
   "execution_count": 16,
   "outputs": [
    {
     "name": "stdout",
     "output_type": "stream",
     "text": [
      "<class 'pandas.core.frame.DataFrame'>\n",
      "Int64Index: 531 entries, 0 to 30\n",
      "Data columns (total 15 columns):\n",
      " #   Column      Non-Null Count  Dtype \n",
      "---  ------      --------------  ----- \n",
      " 0   Unnamed: 0  531 non-null    int64 \n",
      " 1   title       531 non-null    object\n",
      " 2   artist      531 non-null    object\n",
      " 3   top genre   531 non-null    object\n",
      " 4   year        531 non-null    int64 \n",
      " 5   bpm         531 non-null    int64 \n",
      " 6   nrgy        531 non-null    int64 \n",
      " 7   dnce        531 non-null    int64 \n",
      " 8   dB          531 non-null    int64 \n",
      " 9   live        531 non-null    int64 \n",
      " 10  val         531 non-null    int64 \n",
      " 11  dur         531 non-null    int64 \n",
      " 12  acous       531 non-null    int64 \n",
      " 13  spch        531 non-null    int64 \n",
      " 14  pop         531 non-null    int64 \n",
      "dtypes: int64(12), object(3)\n",
      "memory usage: 66.4+ KB\n"
     ]
    }
   ],
   "source": [
    "all_top_songs.info()"
   ],
   "metadata": {
    "collapsed": false,
    "pycharm": {
     "name": "#%%\n"
    }
   }
  },
  {
   "cell_type": "code",
   "execution_count": 21,
   "outputs": [
    {
     "data": {
      "text/plain": "     ID                                              title            artist  \\\n0     1                                   Hey, Soul Sister             Train   \n1     2                               Love The Way You Lie            Eminem   \n2     3                                            TiK ToK             Kesha   \n3     4                                        Bad Romance         Lady Gaga   \n4     5                               Just the Way You Are        Bruno Mars   \n..  ...                                                ...               ...   \n26  599                Find U Again (feat. Camila Cabello)       Mark Ronson   \n27  600      Cross Me (feat. Chance the Rapper & PnB Rock)        Ed Sheeran   \n28  601  No Brainer (feat. Justin Bieber, Chance the Ra...         DJ Khaled   \n29  602    Nothing Breaks Like a Heart (feat. Miley Cyrus)       Mark Ronson   \n30  603                                   Kills You Slowly  The Chainsmokers   \n\n          top genre  year  bpm  nrgy  dnce  dB  live  val  dur  acous  spch  \\\n0        neo mellow  2010   97    89    67  -4     8   80  217     19     4   \n1   detroit hip hop  2010   87    93    75  -5    52   64  263     24    23   \n2         dance pop  2010  120    84    76  -3    29   71  200     10    14   \n3         dance pop  2010  119    92    70  -4     8   71  295      0     4   \n4               pop  2010  109    84    64  -5     9   43  221      2     4   \n..              ...   ...  ...   ...   ...  ..   ...  ...  ...    ...   ...   \n26        dance pop  2019  104    66    61  -7    20   16  176      1     3   \n27              pop  2019   95    79    75  -6     7   61  206     21    12   \n28        dance pop  2019  136    76    53  -5     9   65  260      7    34   \n29        dance pop  2019  114    79    60  -6    42   24  217      1     7   \n30       electropop  2019  150    44    70  -9    13   23  213      6     6   \n\n    pop  \n0    83  \n1    82  \n2    80  \n3    79  \n4    78  \n..  ...  \n26   75  \n27   75  \n28   70  \n29   69  \n30   67  \n\n[531 rows x 15 columns]",
      "text/html": "<div>\n<style scoped>\n    .dataframe tbody tr th:only-of-type {\n        vertical-align: middle;\n    }\n\n    .dataframe tbody tr th {\n        vertical-align: top;\n    }\n\n    .dataframe thead th {\n        text-align: right;\n    }\n</style>\n<table border=\"1\" class=\"dataframe\">\n  <thead>\n    <tr style=\"text-align: right;\">\n      <th></th>\n      <th>ID</th>\n      <th>title</th>\n      <th>artist</th>\n      <th>top genre</th>\n      <th>year</th>\n      <th>bpm</th>\n      <th>nrgy</th>\n      <th>dnce</th>\n      <th>dB</th>\n      <th>live</th>\n      <th>val</th>\n      <th>dur</th>\n      <th>acous</th>\n      <th>spch</th>\n      <th>pop</th>\n    </tr>\n  </thead>\n  <tbody>\n    <tr>\n      <th>0</th>\n      <td>1</td>\n      <td>Hey, Soul Sister</td>\n      <td>Train</td>\n      <td>neo mellow</td>\n      <td>2010</td>\n      <td>97</td>\n      <td>89</td>\n      <td>67</td>\n      <td>-4</td>\n      <td>8</td>\n      <td>80</td>\n      <td>217</td>\n      <td>19</td>\n      <td>4</td>\n      <td>83</td>\n    </tr>\n    <tr>\n      <th>1</th>\n      <td>2</td>\n      <td>Love The Way You Lie</td>\n      <td>Eminem</td>\n      <td>detroit hip hop</td>\n      <td>2010</td>\n      <td>87</td>\n      <td>93</td>\n      <td>75</td>\n      <td>-5</td>\n      <td>52</td>\n      <td>64</td>\n      <td>263</td>\n      <td>24</td>\n      <td>23</td>\n      <td>82</td>\n    </tr>\n    <tr>\n      <th>2</th>\n      <td>3</td>\n      <td>TiK ToK</td>\n      <td>Kesha</td>\n      <td>dance pop</td>\n      <td>2010</td>\n      <td>120</td>\n      <td>84</td>\n      <td>76</td>\n      <td>-3</td>\n      <td>29</td>\n      <td>71</td>\n      <td>200</td>\n      <td>10</td>\n      <td>14</td>\n      <td>80</td>\n    </tr>\n    <tr>\n      <th>3</th>\n      <td>4</td>\n      <td>Bad Romance</td>\n      <td>Lady Gaga</td>\n      <td>dance pop</td>\n      <td>2010</td>\n      <td>119</td>\n      <td>92</td>\n      <td>70</td>\n      <td>-4</td>\n      <td>8</td>\n      <td>71</td>\n      <td>295</td>\n      <td>0</td>\n      <td>4</td>\n      <td>79</td>\n    </tr>\n    <tr>\n      <th>4</th>\n      <td>5</td>\n      <td>Just the Way You Are</td>\n      <td>Bruno Mars</td>\n      <td>pop</td>\n      <td>2010</td>\n      <td>109</td>\n      <td>84</td>\n      <td>64</td>\n      <td>-5</td>\n      <td>9</td>\n      <td>43</td>\n      <td>221</td>\n      <td>2</td>\n      <td>4</td>\n      <td>78</td>\n    </tr>\n    <tr>\n      <th>...</th>\n      <td>...</td>\n      <td>...</td>\n      <td>...</td>\n      <td>...</td>\n      <td>...</td>\n      <td>...</td>\n      <td>...</td>\n      <td>...</td>\n      <td>...</td>\n      <td>...</td>\n      <td>...</td>\n      <td>...</td>\n      <td>...</td>\n      <td>...</td>\n      <td>...</td>\n    </tr>\n    <tr>\n      <th>26</th>\n      <td>599</td>\n      <td>Find U Again (feat. Camila Cabello)</td>\n      <td>Mark Ronson</td>\n      <td>dance pop</td>\n      <td>2019</td>\n      <td>104</td>\n      <td>66</td>\n      <td>61</td>\n      <td>-7</td>\n      <td>20</td>\n      <td>16</td>\n      <td>176</td>\n      <td>1</td>\n      <td>3</td>\n      <td>75</td>\n    </tr>\n    <tr>\n      <th>27</th>\n      <td>600</td>\n      <td>Cross Me (feat. Chance the Rapper &amp; PnB Rock)</td>\n      <td>Ed Sheeran</td>\n      <td>pop</td>\n      <td>2019</td>\n      <td>95</td>\n      <td>79</td>\n      <td>75</td>\n      <td>-6</td>\n      <td>7</td>\n      <td>61</td>\n      <td>206</td>\n      <td>21</td>\n      <td>12</td>\n      <td>75</td>\n    </tr>\n    <tr>\n      <th>28</th>\n      <td>601</td>\n      <td>No Brainer (feat. Justin Bieber, Chance the Ra...</td>\n      <td>DJ Khaled</td>\n      <td>dance pop</td>\n      <td>2019</td>\n      <td>136</td>\n      <td>76</td>\n      <td>53</td>\n      <td>-5</td>\n      <td>9</td>\n      <td>65</td>\n      <td>260</td>\n      <td>7</td>\n      <td>34</td>\n      <td>70</td>\n    </tr>\n    <tr>\n      <th>29</th>\n      <td>602</td>\n      <td>Nothing Breaks Like a Heart (feat. Miley Cyrus)</td>\n      <td>Mark Ronson</td>\n      <td>dance pop</td>\n      <td>2019</td>\n      <td>114</td>\n      <td>79</td>\n      <td>60</td>\n      <td>-6</td>\n      <td>42</td>\n      <td>24</td>\n      <td>217</td>\n      <td>1</td>\n      <td>7</td>\n      <td>69</td>\n    </tr>\n    <tr>\n      <th>30</th>\n      <td>603</td>\n      <td>Kills You Slowly</td>\n      <td>The Chainsmokers</td>\n      <td>electropop</td>\n      <td>2019</td>\n      <td>150</td>\n      <td>44</td>\n      <td>70</td>\n      <td>-9</td>\n      <td>13</td>\n      <td>23</td>\n      <td>213</td>\n      <td>6</td>\n      <td>6</td>\n      <td>67</td>\n    </tr>\n  </tbody>\n</table>\n<p>531 rows × 15 columns</p>\n</div>"
     },
     "execution_count": 21,
     "metadata": {},
     "output_type": "execute_result"
    }
   ],
   "source": [
    "all_top_songs.rename(columns={'Unnamed: 0': 'ID'}, inplace=True)\n",
    "all_top_songs"
   ],
   "metadata": {
    "collapsed": false,
    "pycharm": {
     "name": "#%%\n"
    }
   }
  }
 ],
 "metadata": {
  "kernelspec": {
   "display_name": "Python 3",
   "language": "python",
   "name": "python3"
  },
  "language_info": {
   "codemirror_mode": {
    "name": "ipython",
    "version": 2
   },
   "file_extension": ".py",
   "mimetype": "text/x-python",
   "name": "python",
   "nbconvert_exporter": "python",
   "pygments_lexer": "ipython2",
   "version": "2.7.6"
  }
 },
 "nbformat": 4,
 "nbformat_minor": 0
}